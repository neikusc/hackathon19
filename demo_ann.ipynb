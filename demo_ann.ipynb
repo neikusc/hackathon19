{
 "cells": [
  {
   "cell_type": "markdown",
   "metadata": {},
   "source": [
    "References:\n",
    "- Coursera: [Introduction to TensorFlow for Artificial Intelligence, Machine Learning, and Deep Learning](https://www.coursera.org/)\n",
    "\n",
    "Python packages:\n",
    "- tensorflow 1.12\n",
    "- tensorflow-base 1.12\n",
    "- pydot\n",
    "- opencv3 - _conda install --channel https://conda.anaconda.org/menpo opencv3_"
   ]
  },
  {
   "cell_type": "markdown",
   "metadata": {},
   "source": [
    "### Single Nueron Network - House Price Prediction"
   ]
  },
  {
   "cell_type": "markdown",
   "metadata": {},
   "source": [
    "_Imagine if house pricing was as easy as a house costs 50k + 50k per bedroom, so that a 1 bedroom house costs 100k, a 2 bedroom house costs 150k etc._\n",
    "\n",
    "_How would you create a neural network that learns this relationship so that it would predict a 7 bedroom house as costing close to 400k etc._\n",
    "\n",
    "_**Hint**: Your network might work better if you scale the house price down. You don't have to give the answer 400...it might be better to create something that predicts the number 4, and then your answer is in the 'hundreds of thousands' etc._"
   ]
  },
  {
   "cell_type": "code",
   "execution_count": 1,
   "metadata": {},
   "outputs": [
    {
     "name": "stdout",
     "output_type": "stream",
     "text": [
      "Epoch 1/10\n",
      "6/6 [==============================] - 0s 49ms/step - loss: 4.4166\n",
      "Epoch 2/10\n",
      "6/6 [==============================] - 0s 304us/step - loss: 2.0831\n",
      "Epoch 3/10\n",
      "6/6 [==============================] - 0s 454us/step - loss: 1.0029\n",
      "Epoch 4/10\n",
      "6/6 [==============================] - 0s 357us/step - loss: 0.5026\n",
      "Epoch 5/10\n",
      "6/6 [==============================] - 0s 300us/step - loss: 0.2708\n",
      "Epoch 6/10\n",
      "6/6 [==============================] - 0s 262us/step - loss: 0.1632\n",
      "Epoch 7/10\n",
      "6/6 [==============================] - 0s 323us/step - loss: 0.1132\n",
      "Epoch 8/10\n",
      "6/6 [==============================] - 0s 265us/step - loss: 0.0897\n",
      "Epoch 9/10\n",
      "6/6 [==============================] - 0s 333us/step - loss: 0.0786\n",
      "Epoch 10/10\n",
      "6/6 [==============================] - 0s 265us/step - loss: 0.0732\n",
      "[[4.4566965]]\n"
     ]
    }
   ],
   "source": [
    "import tensorflow as tf\n",
    "import numpy as np\n",
    "from tensorflow import keras\n",
    "\n",
    "model = tf.keras.Sequential([keras.layers.Dense(units=1, input_shape=[1])])\n",
    "model.compile(optimizer='sgd', loss='mean_squared_error')\n",
    "xs = np.array([1.0, 2.0, 3.0, 4.0, 5.0, 6.0], dtype=float)\n",
    "ys = np.array([1.0, 1.5, 2.0, 2.5, 3.0, 3.5], dtype=float)\n",
    "model.fit(xs, ys, epochs=10)\n",
    "print(model.predict([7.0]))"
   ]
  },
  {
   "cell_type": "markdown",
   "metadata": {},
   "source": [
    "_**Questions**:_\n",
    "- _Why do we use mean square error as loss function?_\n",
    "- _Could we use other type of loss function?_"
   ]
  },
  {
   "cell_type": "markdown",
   "metadata": {},
   "source": [
    "[How to Visualize a Deep Learning Neural Network Model in Keras](https://machinelearningmastery.com/visualize-deep-learning-neural-network-model-keras/)"
   ]
  },
  {
   "cell_type": "markdown",
   "metadata": {},
   "source": [
    "### Artifical Neural Networks - FashionMNIST"
   ]
  },
  {
   "cell_type": "code",
   "execution_count": 11,
   "metadata": {},
   "outputs": [
    {
     "name": "stdout",
     "output_type": "stream",
     "text": [
      "Downloading data from https://storage.googleapis.com/tensorflow/tf-keras-datasets/train-labels-idx1-ubyte.gz\n",
      "32768/29515 [=================================] - 0s 1us/step\n",
      "Downloading data from https://storage.googleapis.com/tensorflow/tf-keras-datasets/train-images-idx3-ubyte.gz\n",
      "26427392/26421880 [==============================] - 7s 0us/step\n",
      "Downloading data from https://storage.googleapis.com/tensorflow/tf-keras-datasets/t10k-labels-idx1-ubyte.gz\n",
      "8192/5148 [===============================================] - 0s 0us/step\n",
      "Downloading data from https://storage.googleapis.com/tensorflow/tf-keras-datasets/t10k-images-idx3-ubyte.gz\n",
      "4423680/4422102 [==============================] - 1s 0us/step\n",
      "Epoch 1/10\n",
      "60000/60000 [==============================] - 19s 318us/step - loss: 0.4750 - acc: 0.8306\n",
      "Epoch 2/10\n",
      "60000/60000 [==============================] - 19s 324us/step - loss: 0.3591 - acc: 0.8682\n",
      "Epoch 3/10\n",
      "60000/60000 [==============================] - 22s 366us/step - loss: 0.3212 - acc: 0.8827\n",
      "Epoch 4/10\n",
      "60000/60000 [==============================] - 21s 351us/step - loss: 0.2973 - acc: 0.8901\n",
      "Epoch 5/10\n",
      "60000/60000 [==============================] - 22s 359us/step - loss: 0.2803 - acc: 0.8964\n",
      "Epoch 6/10\n",
      "60000/60000 [==============================] - 21s 350us/step - loss: 0.2648 - acc: 0.9012\n",
      "Epoch 7/10\n",
      "60000/60000 [==============================] - 19s 316us/step - loss: 0.2515 - acc: 0.9060\n",
      "Epoch 8/10\n",
      "60000/60000 [==============================] - 21s 357us/step - loss: 0.2392 - acc: 0.9100\n",
      "Epoch 9/10\n",
      "60000/60000 [==============================] - 21s 343us/step - loss: 0.2318 - acc: 0.9125\n",
      "Epoch 10/10\n",
      "60000/60000 [==============================] - 22s 360us/step - loss: 0.2215 - acc: 0.9176\n"
     ]
    },
    {
     "data": {
      "text/plain": [
       "<tensorflow.python.keras.callbacks.History at 0xb5b2c1160>"
      ]
     },
     "execution_count": 11,
     "metadata": {},
     "output_type": "execute_result"
    }
   ],
   "source": [
    "import tensorflow as tf\n",
    "\n",
    "class myCallback(tf.keras.callbacks.Callback):\n",
    "  def on_epoch_end(self, epoch, logs={}):\n",
    "    if(logs.get('acc')>0.99):\n",
    "      print(\"\\nReached 99% accuracy so cancelling training!\")\n",
    "      self.model.stop_training = True\n",
    "\n",
    "mnist = tf.keras.datasets.fashion_mnist\n",
    "\n",
    "(x_train, y_train),(x_test, y_test) = mnist.load_data()\n",
    "x_train, x_test = x_train / 255.0, x_test / 255.0\n",
    "\n",
    "callbacks = myCallback()\n",
    "\n",
    "model = tf.keras.models.Sequential([\n",
    "  tf.keras.layers.Flatten(input_shape=(28, 28)),\n",
    "  tf.keras.layers.Dense(512, activation=tf.nn.relu),\n",
    "  tf.keras.layers.Dense(10, activation=tf.nn.softmax)\n",
    "])\n",
    "model.compile(optimizer='adam',\n",
    "              loss='sparse_categorical_crossentropy',\n",
    "              metrics=['accuracy'])\n",
    "\n",
    "model.fit(x_train, y_train, epochs=10, callbacks=[callbacks])"
   ]
  },
  {
   "cell_type": "markdown",
   "metadata": {},
   "source": [
    "_**Questions**: Why the number of parameter is 40192 but not 784x512=401408?_"
   ]
  },
  {
   "cell_type": "code",
   "execution_count": 13,
   "metadata": {},
   "outputs": [
    {
     "name": "stdout",
     "output_type": "stream",
     "text": [
      "_________________________________________________________________\n",
      "Layer (type)                 Output Shape              Param #   \n",
      "=================================================================\n",
      "flatten_1 (Flatten)          (None, 784)               0         \n",
      "_________________________________________________________________\n",
      "dense_2 (Dense)              (None, 512)               401920    \n",
      "_________________________________________________________________\n",
      "dense_3 (Dense)              (None, 10)                5130      \n",
      "=================================================================\n",
      "Total params: 407,050\n",
      "Trainable params: 407,050\n",
      "Non-trainable params: 0\n",
      "_________________________________________________________________\n"
     ]
    }
   ],
   "source": [
    "model.summary()"
   ]
  },
  {
   "cell_type": "code",
   "execution_count": 4,
   "metadata": {},
   "outputs": [],
   "source": [
    "from keras.utils import plot_model\n",
    "# plot_model(model, to_file='/Users/neikusc/src/hackathon19/model_hand_writing.png')\n",
    "plot_model(model, to_file='model_hand_writing.png', show_shapes=True, show_layer_names=True)"
   ]
  },
  {
   "cell_type": "code",
   "execution_count": 4,
   "metadata": {},
   "outputs": [
    {
     "data": {
      "text/plain": [
       "(60000, 28, 28)"
      ]
     },
     "execution_count": 4,
     "metadata": {},
     "output_type": "execute_result"
    }
   ],
   "source": [
    "x_train.shape"
   ]
  },
  {
   "cell_type": "code",
   "execution_count": 14,
   "metadata": {},
   "outputs": [
    {
     "data": {
      "text/plain": [
       "(28, 28)"
      ]
     },
     "execution_count": 14,
     "metadata": {},
     "output_type": "execute_result"
    }
   ],
   "source": [
    "x_train[0].shape"
   ]
  },
  {
   "cell_type": "code",
   "execution_count": 15,
   "metadata": {},
   "outputs": [
    {
     "name": "stdout",
     "output_type": "stream",
     "text": [
      "9\n",
      "[[  0.   0.   0.   0.   0.   0.   0.   0.   0.   0.   0.   0.   0.   0.\n",
      "    0.   0.   0.   0.   0.   0.   0.   0.   0.   0.   0.   0.   0.   0.]\n",
      " [  0.   0.   0.   0.   0.   0.   0.   0.   0.   0.   0.   0.   0.   0.\n",
      "    0.   0.   0.   0.   0.   0.   0.   0.   0.   0.   0.   0.   0.   0.]\n",
      " [  0.   0.   0.   0.   0.   0.   0.   0.   0.   0.   0.   0.   0.   0.\n",
      "    0.   0.   0.   0.   0.   0.   0.   0.   0.   0.   0.   0.   0.   0.]\n",
      " [  0.   0.   0.   0.   0.   0.   0.   0.   0.   0.   0.   0.   1.   0.\n",
      "    0.  13.  73.   0.   0.   1.   4.   0.   0.   0.   0.   1.   1.   0.]\n",
      " [  0.   0.   0.   0.   0.   0.   0.   0.   0.   0.   0.   0.   3.   0.\n",
      "   36. 136. 127.  62.  54.   0.   0.   0.   1.   3.   4.   0.   0.   3.]\n",
      " [  0.   0.   0.   0.   0.   0.   0.   0.   0.   0.   0.   0.   6.   0.\n",
      "  102. 204. 176. 134. 144. 123.  23.   0.   0.   0.   0.  12.  10.   0.]\n",
      " [  0.   0.   0.   0.   0.   0.   0.   0.   0.   0.   0.   0.   0.   0.\n",
      "  155. 236. 207. 178. 107. 156. 161. 109.  64.  23.  77. 130.  72.  15.]\n",
      " [  0.   0.   0.   0.   0.   0.   0.   0.   0.   0.   0.   1.   0.  69.\n",
      "  207. 223. 218. 216. 216. 163. 127. 121. 122. 146. 141.  88. 172.  66.]\n",
      " [  0.   0.   0.   0.   0.   0.   0.   0.   0.   1.   1.   1.   0. 200.\n",
      "  232. 232. 233. 229. 223. 223. 215. 213. 164. 127. 123. 196. 229.   0.]\n",
      " [  0.   0.   0.   0.   0.   0.   0.   0.   0.   0.   0.   0.   0. 183.\n",
      "  225. 216. 223. 228. 235. 227. 224. 222. 224. 221. 223. 245. 173.   0.]\n",
      " [  0.   0.   0.   0.   0.   0.   0.   0.   0.   0.   0.   0.   0. 193.\n",
      "  228. 218. 213. 198. 180. 212. 210. 211. 213. 223. 220. 243. 202.   0.]\n",
      " [  0.   0.   0.   0.   0.   0.   0.   0.   0.   1.   3.   0.  12. 219.\n",
      "  220. 212. 218. 192. 169. 227. 208. 218. 224. 212. 226. 197. 209.  52.]\n",
      " [  0.   0.   0.   0.   0.   0.   0.   0.   0.   0.   6.   0.  99. 244.\n",
      "  222. 220. 218. 203. 198. 221. 215. 213. 222. 220. 245. 119. 167.  56.]\n",
      " [  0.   0.   0.   0.   0.   0.   0.   0.   0.   4.   0.   0.  55. 236.\n",
      "  228. 230. 228. 240. 232. 213. 218. 223. 234. 217. 217. 209.  92.   0.]\n",
      " [  0.   0.   1.   4.   6.   7.   2.   0.   0.   0.   0.   0. 237. 226.\n",
      "  217. 223. 222. 219. 222. 221. 216. 223. 229. 215. 218. 255.  77.   0.]\n",
      " [  0.   3.   0.   0.   0.   0.   0.   0.   0.  62. 145. 204. 228. 207.\n",
      "  213. 221. 218. 208. 211. 218. 224. 223. 219. 215. 224. 244. 159.   0.]\n",
      " [  0.   0.   0.   0.  18.  44.  82. 107. 189. 228. 220. 222. 217. 226.\n",
      "  200. 205. 211. 230. 224. 234. 176. 188. 250. 248. 233. 238. 215.   0.]\n",
      " [  0.  57. 187. 208. 224. 221. 224. 208. 204. 214. 208. 209. 200. 159.\n",
      "  245. 193. 206. 223. 255. 255. 221. 234. 221. 211. 220. 232. 246.   0.]\n",
      " [  3. 202. 228. 224. 221. 211. 211. 214. 205. 205. 205. 220. 240.  80.\n",
      "  150. 255. 229. 221. 188. 154. 191. 210. 204. 209. 222. 228. 225.   0.]\n",
      " [ 98. 233. 198. 210. 222. 229. 229. 234. 249. 220. 194. 215. 217. 241.\n",
      "   65.  73. 106. 117. 168. 219. 221. 215. 217. 223. 223. 224. 229.  29.]\n",
      " [ 75. 204. 212. 204. 193. 205. 211. 225. 216. 185. 197. 206. 198. 213.\n",
      "  240. 195. 227. 245. 239. 223. 218. 212. 209. 222. 220. 221. 230.  67.]\n",
      " [ 48. 203. 183. 194. 213. 197. 185. 190. 194. 192. 202. 214. 219. 221.\n",
      "  220. 236. 225. 216. 199. 206. 186. 181. 177. 172. 181. 205. 206. 115.]\n",
      " [  0. 122. 219. 193. 179. 171. 183. 196. 204. 210. 213. 207. 211. 210.\n",
      "  200. 196. 194. 191. 195. 191. 198. 192. 176. 156. 167. 177. 210.  92.]\n",
      " [  0.   0.  74. 189. 212. 191. 175. 172. 175. 181. 185. 188. 189. 188.\n",
      "  193. 198. 204. 209. 210. 210. 211. 188. 188. 194. 192. 216. 170.   0.]\n",
      " [  2.   0.   0.   0.  66. 200. 222. 237. 239. 242. 246. 243. 244. 221.\n",
      "  220. 193. 191. 179. 182. 182. 181. 176. 166. 168.  99.  58.   0.   0.]\n",
      " [  0.   0.   0.   0.   0.   0.   0.  40.  61.  44.  72.  41.  35.   0.\n",
      "    0.   0.   0.   0.   0.   0.   0.   0.   0.   0.   0.   0.   0.   0.]\n",
      " [  0.   0.   0.   0.   0.   0.   0.   0.   0.   0.   0.   0.   0.   0.\n",
      "    0.   0.   0.   0.   0.   0.   0.   0.   0.   0.   0.   0.   0.   0.]\n",
      " [  0.   0.   0.   0.   0.   0.   0.   0.   0.   0.   0.   0.   0.   0.\n",
      "    0.   0.   0.   0.   0.   0.   0.   0.   0.   0.   0.   0.   0.   0.]]\n"
     ]
    },
    {
     "data": {
      "image/png": "[encoded data removed]",
      "text/plain": [
       "<Figure size 432x288 with 1 Axes>"
      ]
     },
     "metadata": {
      "needs_background": "light"
     },
     "output_type": "display_data"
    }
   ],
   "source": [
    "import matplotlib.pyplot as plt\n",
    "plt.imshow(x_train[0])\n",
    "print(y_train[0])\n",
    "print(x_train[0])"
   ]
  },
  {
   "cell_type": "code",
   "execution_count": null,
   "metadata": {},
   "outputs": [],
   "source": []
  }
 ],
 "metadata": {
  "kernelspec": {
   "display_name": "Python 3",
   "language": "python",
   "name": "python3"
  },
  "language_info": {
   "codemirror_mode": {
    "name": "ipython",
    "version": 3
   },
   "file_extension": ".py",
   "mimetype": "text/x-python",
   "name": "python",
   "nbconvert_exporter": "python",
   "pygments_lexer": "ipython3",
   "version": "3.6.8"
  }
 },
 "nbformat": 4,
 "nbformat_minor": 2
}
