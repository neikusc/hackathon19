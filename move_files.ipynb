{
 "cells": [
  {
   "cell_type": "code",
   "execution_count": 4,
   "metadata": {},
   "outputs": [
    {
     "name": "stdout",
     "output_type": "stream",
     "text": [
      "Total samples  2581\n"
     ]
    }
   ],
   "source": [
    "import shutil\n",
    "import random\n",
    "import subprocess\n",
    "import glob, os\n",
    "os.chdir('/Users/neikusc/data/dogs_cats/train/dog/')\n",
    "\n",
    "nn = 0\n",
    "for file in glob.glob('*.jpg'):\n",
    "    if random.random()<0.2:\n",
    "        shutil.move(\"/Users/neikusc/data/dogs_cats/train/dog/{0}\".format(file), \n",
    "                    \"/Users/neikusc/data/dogs_cats/valid/dog/{0}\".format(file))\n",
    "        nn += 1\n",
    "print('Total samples ', nn)\n",
    "# cat 2434\n",
    "# dog 2581"
   ]
  },
  {
   "cell_type": "code",
   "execution_count": 2,
   "metadata": {},
   "outputs": [
    {
     "data": {
      "text/plain": [
       "0.2"
      ]
     },
     "execution_count": 2,
     "metadata": {},
     "output_type": "execute_result"
    }
   ],
   "source": [
    "2500/12500."
   ]
  },
  {
   "cell_type": "code",
   "execution_count": null,
   "metadata": {},
   "outputs": [],
   "source": [
    "\n",
    "shutil.move(\"path/to/current/file.foo\", \"path/to/new/destination/for/file.foo\")\n",
    "# subprocess.run([\"mv\", \"-l\"])"
   ]
  }
 ],
 "metadata": {
  "kernelspec": {
   "display_name": "Python 3",
   "language": "python",
   "name": "python3"
  },
  "language_info": {
   "codemirror_mode": {
    "name": "ipython",
    "version": 3
   },
   "file_extension": ".py",
   "mimetype": "text/x-python",
   "name": "python",
   "nbconvert_exporter": "python",
   "pygments_lexer": "ipython3",
   "version": "3.6.5"
  }
 },
 "nbformat": 4,
 "nbformat_minor": 2
}
